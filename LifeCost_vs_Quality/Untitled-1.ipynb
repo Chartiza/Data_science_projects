{
 "cells": [
  {
   "attachments": {},
   "cell_type": "markdown",
   "metadata": {},
   "source": [
    "Exploratory data analysis overview"
   ]
  },
  {
   "cell_type": "code",
   "execution_count": 18,
   "metadata": {},
   "outputs": [
    {
     "data": {
      "image/png": "[encoded data removed]",
      "text/plain": [
       "<Figure size 640x480 with 1 Axes>"
      ]
     },
     "metadata": {},
     "output_type": "display_data"
    }
   ],
   "source": [
    "import pandas as pd\n",
    "import matplotlib.pyplot as plt\n",
    "\n",
    "# load abundance table\n",
    "#df = pd.read_csv('/Users/ketpantuh/Documents/1MyDisk/Code/Code_R/Utrecht/input/Kateryna_abundanceData_MetaPhLan3.csv', index_col=0)\n",
    "\n",
    "# calculate mean abundance across samples\n",
    "mean_abundance = abud.mean(axis=1)\n",
    "\n",
    "# sort mean abundance in descending order\n",
    "sorted_abundance = mean_abundance.sort_values(ascending=False)\n",
    "\n",
    "# plot top 10 most abundant bacteria\n",
    "num_bacteria = 10\n",
    "top_bacteria = sorted_abundance[:num_bacteria]\n",
    "top_bacteria.plot(kind='bar')\n",
    "plt.title('Top {} Most Abundant Bacteria'.format(num_bacteria))\n",
    "plt.ylabel('Mean Abundance,%')\n",
    "plt.show()"
   ]
  },
  {
   "cell_type": "code",
   "execution_count": 1,
   "metadata": {},
   "outputs": [],
   "source": [
    "# Import necessary libraries\n",
    "import pandas as pd\n",
    "from sklearn.model_selection import train_test_split\n",
    "from sklearn.ensemble import RandomForestClassifier\n",
    "from sklearn.metrics import accuracy_score\n",
    "from sklearn.metrics import pairwise_distances\n",
    "from sklearn.manifold import MDS\n",
    "import matplotlib.pyplot as plt"
   ]
  },
  {
   "cell_type": "code",
   "execution_count": 14,
   "metadata": {},
   "outputs": [
    {
     "data": {
      "text/html": [
       "<div>\n",
       "<style scoped>\n",
       "    .dataframe tbody tr th:only-of-type {\n",
       "        vertical-align: middle;\n",
       "    }\n",
       "\n",
       "    .dataframe tbody tr th {\n",
       "        vertical-align: top;\n",
       "    }\n",
       "\n",
       "    .dataframe thead th {\n",
       "        text-align: right;\n",
       "    }\n",
       "</style>\n",
       "<table border=\"1\" class=\"dataframe\">\n",
       "  <thead>\n",
       "    <tr style=\"text-align: right;\">\n",
       "      <th></th>\n",
       "      <th>subject_id</th>\n",
       "      <th>taxa1</th>\n",
       "      <th>taxa2</th>\n",
       "      <th>taxa3</th>\n",
       "      <th>taxa4</th>\n",
       "      <th>taxa5</th>\n",
       "      <th>taxa6</th>\n",
       "      <th>taxa7</th>\n",
       "      <th>taxa8</th>\n",
       "      <th>taxa9</th>\n",
       "      <th>...</th>\n",
       "      <th>taxa652</th>\n",
       "      <th>taxa653</th>\n",
       "      <th>taxa654</th>\n",
       "      <th>taxa655</th>\n",
       "      <th>taxa656</th>\n",
       "      <th>BMI</th>\n",
       "      <th>age</th>\n",
       "      <th>gender</th>\n",
       "      <th>depression</th>\n",
       "      <th>diabetes</th>\n",
       "    </tr>\n",
       "  </thead>\n",
       "  <tbody>\n",
       "    <tr>\n",
       "      <th>0</th>\n",
       "      <td>EGVD000009</td>\n",
       "      <td>0.0</td>\n",
       "      <td>0.08211</td>\n",
       "      <td>0.0</td>\n",
       "      <td>0.0</td>\n",
       "      <td>0.0</td>\n",
       "      <td>0.0</td>\n",
       "      <td>0.0</td>\n",
       "      <td>0.0</td>\n",
       "      <td>0.0</td>\n",
       "      <td>...</td>\n",
       "      <td>0.0</td>\n",
       "      <td>0.0</td>\n",
       "      <td>0.0</td>\n",
       "      <td>0.0</td>\n",
       "      <td>0.0</td>\n",
       "      <td>17.76</td>\n",
       "      <td>72.0</td>\n",
       "      <td>0</td>\n",
       "      <td>1</td>\n",
       "      <td>0</td>\n",
       "    </tr>\n",
       "    <tr>\n",
       "      <th>1</th>\n",
       "      <td>EGVD000026</td>\n",
       "      <td>0.0</td>\n",
       "      <td>0.00000</td>\n",
       "      <td>0.0</td>\n",
       "      <td>0.0</td>\n",
       "      <td>0.0</td>\n",
       "      <td>0.0</td>\n",
       "      <td>0.0</td>\n",
       "      <td>0.0</td>\n",
       "      <td>0.0</td>\n",
       "      <td>...</td>\n",
       "      <td>0.0</td>\n",
       "      <td>0.0</td>\n",
       "      <td>0.0</td>\n",
       "      <td>0.0</td>\n",
       "      <td>0.0</td>\n",
       "      <td>25.79</td>\n",
       "      <td>37.0</td>\n",
       "      <td>0</td>\n",
       "      <td>0</td>\n",
       "      <td>0</td>\n",
       "    </tr>\n",
       "    <tr>\n",
       "      <th>2</th>\n",
       "      <td>EGVD000042</td>\n",
       "      <td>0.0</td>\n",
       "      <td>0.00000</td>\n",
       "      <td>0.0</td>\n",
       "      <td>0.0</td>\n",
       "      <td>0.0</td>\n",
       "      <td>0.0</td>\n",
       "      <td>0.0</td>\n",
       "      <td>0.0</td>\n",
       "      <td>0.0</td>\n",
       "      <td>...</td>\n",
       "      <td>0.0</td>\n",
       "      <td>0.0</td>\n",
       "      <td>0.0</td>\n",
       "      <td>0.0</td>\n",
       "      <td>0.0</td>\n",
       "      <td>21.39</td>\n",
       "      <td>77.0</td>\n",
       "      <td>0</td>\n",
       "      <td>0</td>\n",
       "      <td>0</td>\n",
       "    </tr>\n",
       "  </tbody>\n",
       "</table>\n",
       "<p>3 rows × 662 columns</p>\n",
       "</div>"
      ],
      "text/plain": [
       "   subject_id  taxa1    taxa2  taxa3  taxa4  taxa5  taxa6  taxa7  taxa8  \\\n",
       "0  EGVD000009    0.0  0.08211    0.0    0.0    0.0    0.0    0.0    0.0   \n",
       "1  EGVD000026    0.0  0.00000    0.0    0.0    0.0    0.0    0.0    0.0   \n",
       "2  EGVD000042    0.0  0.00000    0.0    0.0    0.0    0.0    0.0    0.0   \n",
       "\n",
       "   taxa9  ...  taxa652  taxa653  taxa654  taxa655  taxa656    BMI   age  \\\n",
       "0    0.0  ...      0.0      0.0      0.0      0.0      0.0  17.76  72.0   \n",
       "1    0.0  ...      0.0      0.0      0.0      0.0      0.0  25.79  37.0   \n",
       "2    0.0  ...      0.0      0.0      0.0      0.0      0.0  21.39  77.0   \n",
       "\n",
       "   gender  depression  diabetes  \n",
       "0       0           1         0  \n",
       "1       0           0         0  \n",
       "2       0           0         0  \n",
       "\n",
       "[3 rows x 662 columns]"
      ]
     },
     "execution_count": 14,
     "metadata": {},
     "output_type": "execute_result"
    }
   ],
   "source": [
    "# Load the abundance table and health data into pandas dataframes\n",
    "abundance_table = pd.read_csv('/Users/ketpantuh/Documents/1MyDisk/Code/Code_R/Utrecht/input/Kateryna_abundanceData_MetaPhLan3.csv')\n",
    "health_data = pd.read_csv('/Users/ketpantuh/Documents/1MyDisk/Code/Code_R/Utrecht/input/Kateryna_phenotypeData.csv')\n",
    "\n",
    "merged_data = pd.merge(abundance_table, health_data, on='subject_id')\n",
    "merged_data.head(3)\n",
    "\n",
    "#pmrg = merged_data.head(500)"
   ]
  },
  {
   "cell_type": "code",
   "execution_count": 15,
   "metadata": {},
   "outputs": [
    {
     "data": {
      "text/html": [
       "<div>\n",
       "<style scoped>\n",
       "    .dataframe tbody tr th:only-of-type {\n",
       "        vertical-align: middle;\n",
       "    }\n",
       "\n",
       "    .dataframe tbody tr th {\n",
       "        vertical-align: top;\n",
       "    }\n",
       "\n",
       "    .dataframe thead th {\n",
       "        text-align: right;\n",
       "    }\n",
       "</style>\n",
       "<table border=\"1\" class=\"dataframe\">\n",
       "  <thead>\n",
       "    <tr style=\"text-align: right;\">\n",
       "      <th>subject_id</th>\n",
       "      <th>EGVD000009</th>\n",
       "      <th>EGVD000026</th>\n",
       "      <th>EGVD000042</th>\n",
       "      <th>EGVD000051</th>\n",
       "      <th>EGVD000065</th>\n",
       "      <th>EGVD000076</th>\n",
       "      <th>EGVD000082</th>\n",
       "      <th>EGVD000085</th>\n",
       "      <th>EGVD000095</th>\n",
       "      <th>EGVD000125</th>\n",
       "      <th>...</th>\n",
       "      <th>EGVD638246</th>\n",
       "      <th>EGVD706418</th>\n",
       "      <th>EGVD721524</th>\n",
       "      <th>EGVD828954</th>\n",
       "      <th>EGVD860586</th>\n",
       "      <th>EGVD879862</th>\n",
       "      <th>EGVD917093</th>\n",
       "      <th>EGVD932012</th>\n",
       "      <th>EGVD975563</th>\n",
       "      <th>EGVD995819</th>\n",
       "    </tr>\n",
       "  </thead>\n",
       "  <tbody>\n",
       "    <tr>\n",
       "      <th>taxa1</th>\n",
       "      <td>0.00000</td>\n",
       "      <td>0.0</td>\n",
       "      <td>0.0</td>\n",
       "      <td>0.0</td>\n",
       "      <td>0.00000</td>\n",
       "      <td>0.0</td>\n",
       "      <td>0.00000</td>\n",
       "      <td>0.0</td>\n",
       "      <td>0.0</td>\n",
       "      <td>0.0</td>\n",
       "      <td>...</td>\n",
       "      <td>0.00000</td>\n",
       "      <td>0.0</td>\n",
       "      <td>0.0</td>\n",
       "      <td>0.00000</td>\n",
       "      <td>0.0000</td>\n",
       "      <td>0.000</td>\n",
       "      <td>0.00000</td>\n",
       "      <td>0.0</td>\n",
       "      <td>0.00000</td>\n",
       "      <td>0.0000</td>\n",
       "    </tr>\n",
       "    <tr>\n",
       "      <th>taxa2</th>\n",
       "      <td>0.08211</td>\n",
       "      <td>0.0</td>\n",
       "      <td>0.0</td>\n",
       "      <td>0.0</td>\n",
       "      <td>0.01282</td>\n",
       "      <td>0.0</td>\n",
       "      <td>0.03497</td>\n",
       "      <td>0.0</td>\n",
       "      <td>0.0</td>\n",
       "      <td>0.0</td>\n",
       "      <td>...</td>\n",
       "      <td>0.03268</td>\n",
       "      <td>0.0</td>\n",
       "      <td>0.0</td>\n",
       "      <td>0.07671</td>\n",
       "      <td>0.0711</td>\n",
       "      <td>0.035</td>\n",
       "      <td>0.00198</td>\n",
       "      <td>0.0</td>\n",
       "      <td>0.00757</td>\n",
       "      <td>0.0235</td>\n",
       "    </tr>\n",
       "  </tbody>\n",
       "</table>\n",
       "<p>2 rows × 2509 columns</p>\n",
       "</div>"
      ],
      "text/plain": [
       "subject_id  EGVD000009  EGVD000026  EGVD000042  EGVD000051  EGVD000065  \\\n",
       "taxa1          0.00000         0.0         0.0         0.0     0.00000   \n",
       "taxa2          0.08211         0.0         0.0         0.0     0.01282   \n",
       "\n",
       "subject_id  EGVD000076  EGVD000082  EGVD000085  EGVD000095  EGVD000125  ...  \\\n",
       "taxa1              0.0     0.00000         0.0         0.0         0.0  ...   \n",
       "taxa2              0.0     0.03497         0.0         0.0         0.0  ...   \n",
       "\n",
       "subject_id  EGVD638246  EGVD706418  EGVD721524  EGVD828954  EGVD860586  \\\n",
       "taxa1          0.00000         0.0         0.0     0.00000      0.0000   \n",
       "taxa2          0.03268         0.0         0.0     0.07671      0.0711   \n",
       "\n",
       "subject_id  EGVD879862  EGVD917093  EGVD932012  EGVD975563  EGVD995819  \n",
       "taxa1            0.000     0.00000         0.0     0.00000      0.0000  \n",
       "taxa2            0.035     0.00198         0.0     0.00757      0.0235  \n",
       "\n",
       "[2 rows x 2509 columns]"
      ]
     },
     "execution_count": 15,
     "metadata": {},
     "output_type": "execute_result"
    }
   ],
   "source": [
    "# input abundance table should be in the format where \n",
    "# rows represent different species and \n",
    "# columns represent different samples. \n",
    " \n",
    "abud = abundance_table.set_index('subject_id').T\n",
    "abud.head(2)"
   ]
  },
  {
   "cell_type": "code",
   "execution_count": 9,
   "metadata": {},
   "outputs": [
    {
     "data": {
      "text/html": [
       "<div>\n",
       "<style scoped>\n",
       "    .dataframe tbody tr th:only-of-type {\n",
       "        vertical-align: middle;\n",
       "    }\n",
       "\n",
       "    .dataframe tbody tr th {\n",
       "        vertical-align: top;\n",
       "    }\n",
       "\n",
       "    .dataframe thead th {\n",
       "        text-align: right;\n",
       "    }\n",
       "</style>\n",
       "<table border=\"1\" class=\"dataframe\">\n",
       "  <thead>\n",
       "    <tr style=\"text-align: right;\">\n",
       "      <th></th>\n",
       "      <th>subject_id</th>\n",
       "      <th>BMI</th>\n",
       "      <th>age</th>\n",
       "      <th>gender</th>\n",
       "      <th>depression</th>\n",
       "      <th>diabetes</th>\n",
       "    </tr>\n",
       "  </thead>\n",
       "  <tbody>\n",
       "    <tr>\n",
       "      <th>0</th>\n",
       "      <td>EGVD049674</td>\n",
       "      <td>20.24</td>\n",
       "      <td>35.0</td>\n",
       "      <td>1</td>\n",
       "      <td>0</td>\n",
       "      <td>0</td>\n",
       "    </tr>\n",
       "    <tr>\n",
       "      <th>1</th>\n",
       "      <td>EGVD046120</td>\n",
       "      <td>18.89</td>\n",
       "      <td>36.0</td>\n",
       "      <td>1</td>\n",
       "      <td>0</td>\n",
       "      <td>0</td>\n",
       "    </tr>\n",
       "  </tbody>\n",
       "</table>\n",
       "</div>"
      ],
      "text/plain": [
       "   subject_id    BMI   age  gender  depression  diabetes\n",
       "0  EGVD049674  20.24  35.0       1           0         0\n",
       "1  EGVD046120  18.89  36.0       1           0         0"
      ]
     },
     "execution_count": 9,
     "metadata": {},
     "output_type": "execute_result"
    }
   ],
   "source": [
    "health_data.head(2)"
   ]
  },
  {
   "cell_type": "code",
   "execution_count": 19,
   "metadata": {},
   "outputs": [],
   "source": [
    "# calculate Bray-Curtis dissimilarity matrix\n",
    "bray = pairwise_distances(abud, metric=\"euclidean\")\n",
    "\n",
    "# run MDS and plot\n",
    "mds = MDS(n_components=2, dissimilarity=\"precomputed\").fit_transform(bray)\n",
    "mds_df = pd.DataFrame(mds, columns=[\"MDS1\", \"MDS2\"])\n",
    "mds_df[\"health\"] = health_data[\"depression\"]\n"
   ]
  },
  {
   "cell_type": "code",
   "execution_count": 24,
   "metadata": {},
   "outputs": [
    {
     "data": {
      "text/plain": [
       "Text(0.5, 1.0, 'MDS plot of beta-diversity')"
      ]
     },
     "execution_count": 24,
     "metadata": {},
     "output_type": "execute_result"
    },
    {
     "data": {
      "image/png": "[encoded data removed]",
      "text/plain": [
       "<Figure size 640x480 with 1 Axes>"
      ]
     },
     "metadata": {},
     "output_type": "display_data"
    }
   ],
   "source": [
    "fig, ax = plt.subplots()\n",
    "ax.scatter(x=mds_df[\"MDS1\"], y=mds_df[\"MDS2\"], c=mds_df[\"health\"], cmap=\"Accent\")\n",
    "ax.set_xlabel(\"MDS1\")\n",
    "ax.set_ylabel(\"MDS2\")\n",
    "ax.set_title(\"MDS plot of beta-diversity\")"
   ]
  },
  {
   "attachments": {},
   "cell_type": "markdown",
   "metadata": {},
   "source": [
    "Try with CLR transformation"
   ]
  },
  {
   "cell_type": "code",
   "execution_count": 7,
   "metadata": {},
   "outputs": [],
   "source": [
    "#!pip install scikit-bio"
   ]
  },
  {
   "cell_type": "code",
   "execution_count": 10,
   "metadata": {},
   "outputs": [
    {
     "ename": "ValueError",
     "evalue": "numpy.ndarray size changed, may indicate binary incompatibility. Expected 96 from C header, got 80 from PyObject",
     "output_type": "error",
     "traceback": [
      "\u001b[0;31m---------------------------------------------------------------------------\u001b[0m",
      "\u001b[0;31mValueError\u001b[0m                                Traceback (most recent call last)",
      "Cell \u001b[0;32mIn[10], line 1\u001b[0m\n\u001b[0;32m----> 1\u001b[0m \u001b[39mfrom\u001b[39;00m \u001b[39mskbio\u001b[39;00m\u001b[39m.\u001b[39;00m\u001b[39mstats\u001b[39;00m\u001b[39m.\u001b[39;00m\u001b[39mcomposition\u001b[39;00m \u001b[39mimport\u001b[39;00m clr\n\u001b[1;32m      3\u001b[0m clr_transformed_table \u001b[39m=\u001b[39m pd\u001b[39m.\u001b[39mDataFrame(clr(abud\u001b[39m+\u001b[39m\u001b[39m1\u001b[39m),\n\u001b[1;32m      4\u001b[0m                                      index\u001b[39m=\u001b[39mabud\u001b[39m.\u001b[39mindex,\n\u001b[1;32m      5\u001b[0m                                      columns\u001b[39m=\u001b[39mabud\u001b[39m.\u001b[39mcolumns)\n",
      "File \u001b[0;32m~/Library/Python/3.8/lib/python/site-packages/skbio/__init__.py:11\u001b[0m\n\u001b[1;32m      1\u001b[0m \u001b[39m# ----------------------------------------------------------------------------\u001b[39;00m\n\u001b[1;32m      2\u001b[0m \u001b[39m# Copyright (c) 2013--, scikit-bio development team.\u001b[39;00m\n\u001b[1;32m      3\u001b[0m \u001b[39m#\u001b[39;00m\n\u001b[0;32m   (...)\u001b[0m\n\u001b[1;32m      9\u001b[0m \n\u001b[1;32m     10\u001b[0m \u001b[39m# Add skbio.io to sys.modules to prevent cycles in our imports\u001b[39;00m\n\u001b[0;32m---> 11\u001b[0m \u001b[39mimport\u001b[39;00m \u001b[39mskbio\u001b[39;00m\u001b[39m.\u001b[39;00m\u001b[39mio\u001b[39;00m  \u001b[39m# noqa\u001b[39;00m\n\u001b[1;32m     12\u001b[0m \u001b[39m# imports included for convenience\u001b[39;00m\n\u001b[1;32m     13\u001b[0m \u001b[39mfrom\u001b[39;00m \u001b[39mskbio\u001b[39;00m\u001b[39m.\u001b[39;00m\u001b[39msequence\u001b[39;00m \u001b[39mimport\u001b[39;00m Sequence, DNA, RNA, Protein, GeneticCode\n",
      "File \u001b[0;32m~/Library/Python/3.8/lib/python/site-packages/skbio/io/__init__.py:244\u001b[0m\n\u001b[1;32m    242\u001b[0m import_module(\u001b[39m'\u001b[39m\u001b[39mskbio.io.format.blast6\u001b[39m\u001b[39m'\u001b[39m)\n\u001b[1;32m    243\u001b[0m import_module(\u001b[39m'\u001b[39m\u001b[39mskbio.io.format.blast7\u001b[39m\u001b[39m'\u001b[39m)\n\u001b[0;32m--> 244\u001b[0m import_module(\u001b[39m'\u001b[39;49m\u001b[39mskbio.io.format.clustal\u001b[39;49m\u001b[39m'\u001b[39;49m)\n\u001b[1;32m    245\u001b[0m import_module(\u001b[39m'\u001b[39m\u001b[39mskbio.io.format.embl\u001b[39m\u001b[39m'\u001b[39m)\n\u001b[1;32m    246\u001b[0m import_module(\u001b[39m'\u001b[39m\u001b[39mskbio.io.format.fasta\u001b[39m\u001b[39m'\u001b[39m)\n",
      "File \u001b[0;32m/Library/Developer/CommandLineTools/Library/Frameworks/Python3.framework/Versions/3.8/lib/python3.8/importlib/__init__.py:127\u001b[0m, in \u001b[0;36mimport_module\u001b[0;34m(name, package)\u001b[0m\n\u001b[1;32m    125\u001b[0m             \u001b[39mbreak\u001b[39;00m\n\u001b[1;32m    126\u001b[0m         level \u001b[39m+\u001b[39m\u001b[39m=\u001b[39m \u001b[39m1\u001b[39m\n\u001b[0;32m--> 127\u001b[0m \u001b[39mreturn\u001b[39;00m _bootstrap\u001b[39m.\u001b[39;49m_gcd_import(name[level:], package, level)\n",
      "File \u001b[0;32m~/Library/Python/3.8/lib/python/site-packages/skbio/io/format/clustal.py:148\u001b[0m\n\u001b[1;32m    139\u001b[0m \u001b[39m# ----------------------------------------------------------------------------\u001b[39;00m\n\u001b[1;32m    140\u001b[0m \u001b[39m# Copyright (c) 2013--, scikit-bio development team.\u001b[39;00m\n\u001b[1;32m    141\u001b[0m \u001b[39m#\u001b[39;00m\n\u001b[0;32m   (...)\u001b[0m\n\u001b[1;32m    144\u001b[0m \u001b[39m# The full license is in the file LICENSE.txt, distributed with this software.\u001b[39;00m\n\u001b[1;32m    145\u001b[0m \u001b[39m# ----------------------------------------------------------------------------\u001b[39;00m\n\u001b[1;32m    147\u001b[0m \u001b[39mfrom\u001b[39;00m \u001b[39mskbio\u001b[39;00m\u001b[39m.\u001b[39;00m\u001b[39mio\u001b[39;00m \u001b[39mimport\u001b[39;00m create_format, ClustalFormatError\n\u001b[0;32m--> 148\u001b[0m \u001b[39mfrom\u001b[39;00m \u001b[39mskbio\u001b[39;00m\u001b[39m.\u001b[39;00m\u001b[39malignment\u001b[39;00m \u001b[39mimport\u001b[39;00m TabularMSA\n\u001b[1;32m    151\u001b[0m clustal \u001b[39m=\u001b[39m create_format(\u001b[39m'\u001b[39m\u001b[39mclustal\u001b[39m\u001b[39m'\u001b[39m)\n\u001b[1;32m    154\u001b[0m \u001b[39mdef\u001b[39;00m \u001b[39m_label_line_parser\u001b[39m(record):\n",
      "File \u001b[0;32m~/Library/Python/3.8/lib/python/site-packages/skbio/alignment/__init__.py:204\u001b[0m\n\u001b[1;32m    195\u001b[0m \u001b[39m# ----------------------------------------------------------------------------\u001b[39;00m\n\u001b[1;32m    196\u001b[0m \u001b[39m# Copyright (c) 2013--, scikit-bio development team.\u001b[39;00m\n\u001b[1;32m    197\u001b[0m \u001b[39m#\u001b[39;00m\n\u001b[0;32m   (...)\u001b[0m\n\u001b[1;32m    200\u001b[0m \u001b[39m# The full license is in the file LICENSE.txt, distributed with this software.\u001b[39;00m\n\u001b[1;32m    201\u001b[0m \u001b[39m# ----------------------------------------------------------------------------\u001b[39;00m\n\u001b[1;32m    203\u001b[0m \u001b[39mfrom\u001b[39;00m \u001b[39m.\u001b[39;00m\u001b[39m_tabular_msa\u001b[39;00m \u001b[39mimport\u001b[39;00m TabularMSA\n\u001b[0;32m--> 204\u001b[0m \u001b[39mfrom\u001b[39;00m \u001b[39m.\u001b[39;00m\u001b[39m_pairwise\u001b[39;00m \u001b[39mimport\u001b[39;00m (\n\u001b[1;32m    205\u001b[0m     local_pairwise_align_nucleotide, local_pairwise_align_protein,\n\u001b[1;32m    206\u001b[0m     local_pairwise_align, global_pairwise_align_nucleotide,\n\u001b[1;32m    207\u001b[0m     global_pairwise_align_protein, global_pairwise_align,\n\u001b[1;32m    208\u001b[0m     make_identity_substitution_matrix, local_pairwise_align_ssw\n\u001b[1;32m    209\u001b[0m )\n\u001b[1;32m    210\u001b[0m \u001b[39mfrom\u001b[39;00m \u001b[39mskbio\u001b[39;00m\u001b[39m.\u001b[39;00m\u001b[39malignment\u001b[39;00m\u001b[39m.\u001b[39;00m\u001b[39m_ssw_wrapper\u001b[39;00m \u001b[39mimport\u001b[39;00m (\n\u001b[1;32m    211\u001b[0m     StripedSmithWaterman, AlignmentStructure)\n\u001b[1;32m    213\u001b[0m __all__ \u001b[39m=\u001b[39m [\u001b[39m'\u001b[39m\u001b[39mTabularMSA\u001b[39m\u001b[39m'\u001b[39m, \u001b[39m'\u001b[39m\u001b[39mStripedSmithWaterman\u001b[39m\u001b[39m'\u001b[39m, \u001b[39m'\u001b[39m\u001b[39mAlignmentStructure\u001b[39m\u001b[39m'\u001b[39m,\n\u001b[1;32m    214\u001b[0m            \u001b[39m'\u001b[39m\u001b[39mlocal_pairwise_align_ssw\u001b[39m\u001b[39m'\u001b[39m, \u001b[39m'\u001b[39m\u001b[39mglobal_pairwise_align\u001b[39m\u001b[39m'\u001b[39m,\n\u001b[1;32m    215\u001b[0m            \u001b[39m'\u001b[39m\u001b[39mglobal_pairwise_align_nucleotide\u001b[39m\u001b[39m'\u001b[39m, \u001b[39m'\u001b[39m\u001b[39mglobal_pairwise_align_protein\u001b[39m\u001b[39m'\u001b[39m,\n\u001b[1;32m    216\u001b[0m            \u001b[39m'\u001b[39m\u001b[39mlocal_pairwise_align\u001b[39m\u001b[39m'\u001b[39m, \u001b[39m'\u001b[39m\u001b[39mlocal_pairwise_align_nucleotide\u001b[39m\u001b[39m'\u001b[39m,\n\u001b[1;32m    217\u001b[0m            \u001b[39m'\u001b[39m\u001b[39mlocal_pairwise_align_protein\u001b[39m\u001b[39m'\u001b[39m, \u001b[39m'\u001b[39m\u001b[39mmake_identity_substitution_matrix\u001b[39m\u001b[39m'\u001b[39m]\n",
      "File \u001b[0;32m~/Library/Python/3.8/lib/python/site-packages/skbio/alignment/_pairwise.py:15\u001b[0m\n\u001b[1;32m     12\u001b[0m \u001b[39mimport\u001b[39;00m \u001b[39mnumpy\u001b[39;00m \u001b[39mas\u001b[39;00m \u001b[39mnp\u001b[39;00m\n\u001b[1;32m     14\u001b[0m \u001b[39mfrom\u001b[39;00m \u001b[39mskbio\u001b[39;00m\u001b[39m.\u001b[39;00m\u001b[39malignment\u001b[39;00m \u001b[39mimport\u001b[39;00m TabularMSA\n\u001b[0;32m---> 15\u001b[0m \u001b[39mfrom\u001b[39;00m \u001b[39mskbio\u001b[39;00m\u001b[39m.\u001b[39;00m\u001b[39malignment\u001b[39;00m\u001b[39m.\u001b[39;00m\u001b[39m_ssw_wrapper\u001b[39;00m \u001b[39mimport\u001b[39;00m StripedSmithWaterman\n\u001b[1;32m     16\u001b[0m \u001b[39mfrom\u001b[39;00m \u001b[39mskbio\u001b[39;00m\u001b[39m.\u001b[39;00m\u001b[39msequence\u001b[39;00m \u001b[39mimport\u001b[39;00m DNA, RNA, Protein\n\u001b[1;32m     17\u001b[0m \u001b[39mfrom\u001b[39;00m \u001b[39mskbio\u001b[39;00m\u001b[39m.\u001b[39;00m\u001b[39msequence\u001b[39;00m \u001b[39mimport\u001b[39;00m GrammaredSequence\n",
      "File \u001b[0;32mskbio/alignment/_ssw_wrapper.pyx:1\u001b[0m, in \u001b[0;36minit skbio.alignment._ssw_wrapper\u001b[0;34m()\u001b[0m\n",
      "\u001b[0;31mValueError\u001b[0m: numpy.ndarray size changed, may indicate binary incompatibility. Expected 96 from C header, got 80 from PyObject"
     ]
    }
   ],
   "source": [
    "from skbio.stats.composition import clr\n",
    "\n",
    "clr_transformed_table = pd.DataFrame(clr(abud+1),\n",
    "                                     index=abud.index,\n",
    "                                     columns=abud.columns)"
   ]
  }
 ],
 "metadata": {
  "kernelspec": {
   "display_name": "Python 3",
   "language": "python",
   "name": "python3"
  },
  "language_info": {
   "codemirror_mode": {
    "name": "ipython",
    "version": 3
   },
   "file_extension": ".py",
   "mimetype": "text/x-python",
   "name": "python",
   "nbconvert_exporter": "python",
   "pygments_lexer": "ipython3",
   "version": "3.8.2"
  },
  "orig_nbformat": 4
 },
 "nbformat": 4,
 "nbformat_minor": 2
}
